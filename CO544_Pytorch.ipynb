{
  "cells": [
    {
      "cell_type": "markdown",
      "metadata": {
        "colab_type": "text",
        "id": "view-in-github"
      },
      "source": [
        "<a href=\"https://colab.research.google.com/github/Hari25483/PyTorch/blob/main/CO544_Pytorch.ipynb\" target=\"_parent\"><img src=\"https://colab.research.google.com/assets/colab-badge.svg\" alt=\"Open In Colab\"/></a>"
      ]
    },
    {
      "cell_type": "code",
      "execution_count": null,
      "metadata": {
        "colab": {
          "base_uri": "https://localhost:8080/"
        },
        "id": "91Vqs56tI9OT",
        "outputId": "f6e785bf-f50f-4a59-902a-4b4fa978befb"
      },
      "outputs": [
        {
          "name": "stdout",
          "output_type": "stream",
          "text": [
            "/bin/bash: conda: command not found\n"
          ]
        }
      ],
      "source": [
        "# !conda create -n pytorch_env python=3.7 -y"
      ]
    },
    {
      "cell_type": "code",
      "execution_count": null,
      "metadata": {
        "colab": {
          "base_uri": "https://localhost:8080/"
        },
        "id": "U3p6KkYhJHPj",
        "outputId": "13c5b5ef-c162-4884-b7da-dfbf1f11ca34"
      },
      "outputs": [
        {
          "name": "stdout",
          "output_type": "stream",
          "text": [
            "Looking in indexes: https://pypi.org/simple, https://us-python.pkg.dev/colab-wheels/public/simple/\n",
            "Collecting pytorch\n",
            "  Downloading pytorch-1.0.2.tar.gz (689 bytes)\n",
            "  Preparing metadata (setup.py) ... \u001b[?25l\u001b[?25hdone\n",
            "Requirement already satisfied: torchvision in /usr/local/lib/python3.9/dist-packages (0.15.1+cu118)\n",
            "Requirement already satisfied: torchaudio in /usr/local/lib/python3.9/dist-packages (2.0.1+cu118)\n",
            "\u001b[31mERROR: Could not find a version that satisfies the requirement cudatoolkit (from versions: none)\u001b[0m\u001b[31m\n",
            "\u001b[0m\u001b[31mERROR: No matching distribution found for cudatoolkit\u001b[0m\u001b[31m\n",
            "\u001b[0m"
          ]
        }
      ],
      "source": [
        "!pip install pytorch torchvision torchaudio cudatoolkit pytorch "
      ]
    },
    {
      "cell_type": "code",
      "execution_count": 1,
      "metadata": {
        "id": "HL70RMaYJO6Z"
      },
      "outputs": [],
      "source": [
        "import torch\n",
        "import numpy as np"
      ]
    },
    {
      "cell_type": "code",
      "execution_count": 2,
      "metadata": {
        "id": "92xeJ0g8KQSn"
      },
      "outputs": [],
      "source": [
        "data=[[1,2],[3,4]]\n",
        "x_data=torch.tensor(data)"
      ]
    },
    {
      "cell_type": "code",
      "execution_count": 3,
      "metadata": {
        "colab": {
          "base_uri": "https://localhost:8080/"
        },
        "id": "nn1qlaJOKY-0",
        "outputId": "7b946985-e025-4217-fb34-2edf19344c32"
      },
      "outputs": [
        {
          "name": "stdout",
          "output_type": "stream",
          "text": [
            "tensor([[1, 2],\n",
            "        [3, 4]])\n"
          ]
        }
      ],
      "source": [
        "np_array=np.array(data)\n",
        "x_np=torch.from_numpy(np_array)\n",
        "print(x_np)"
      ]
    },
    {
      "cell_type": "code",
      "execution_count": 4,
      "metadata": {
        "colab": {
          "base_uri": "https://localhost:8080/"
        },
        "id": "w6VwPsQhLGMT",
        "outputId": "28c52aff-12d9-48b7-de6d-8d290e0220b8"
      },
      "outputs": [
        {
          "name": "stdout",
          "output_type": "stream",
          "text": [
            "tensor([[1, 1],\n",
            "        [1, 1]])\n"
          ]
        }
      ],
      "source": [
        "# x_ones = torch.z_like(x_data) # retains the properties of x_data\n",
        "# print(f\"Ones Tensor: \\n {x_ones} \\n\")\n",
        "x_ones=torch.ones_like(x_data)\n",
        "print(x_ones)"
      ]
    },
    {
      "cell_type": "code",
      "execution_count": 5,
      "metadata": {
        "colab": {
          "base_uri": "https://localhost:8080/"
        },
        "id": "IOjW56lFLd4s",
        "outputId": "9b3148d6-bad1-4556-933b-20a5bbf87fd5"
      },
      "outputs": [
        {
          "name": "stdout",
          "output_type": "stream",
          "text": [
            "tensor([[0, 0],\n",
            "        [0, 0]])\n"
          ]
        }
      ],
      "source": [
        "x_zeros=torch.zeros_like(x_data)\n",
        "print(x_zeros)"
      ]
    },
    {
      "cell_type": "code",
      "execution_count": 6,
      "metadata": {
        "colab": {
          "base_uri": "https://localhost:8080/"
        },
        "id": "IUx6yQ7WLr8D",
        "outputId": "240a55d9-abd8-4744-b665-5b5e846af11b"
      },
      "outputs": [
        {
          "name": "stdout",
          "output_type": "stream",
          "text": [
            "tensor([[0.1166, 0.4664],\n",
            "        [0.5256, 0.5412]])\n"
          ]
        }
      ],
      "source": [
        "x_rand=torch.rand_like(x_data, dtype=torch.float)\n",
        "print(x_rand)"
      ]
    },
    {
      "cell_type": "code",
      "execution_count": 7,
      "metadata": {
        "colab": {
          "base_uri": "https://localhost:8080/"
        },
        "id": "KTtpikUlL8y2",
        "outputId": "bb648248-20f9-4a85-f8c6-b9e5bac92346"
      },
      "outputs": [
        {
          "name": "stdout",
          "output_type": "stream",
          "text": [
            "Random Tensor: \n",
            " tensor([[0.0612, 0.4700, 0.2233],\n",
            "        [0.9439, 0.1332, 0.2801]]) \n",
            "\n",
            "Ones Tensor: \n",
            " tensor([[1., 1., 1.],\n",
            "        [1., 1., 1.]]) \n",
            "\n",
            "Zeros Tensor: \n",
            " tensor([[0., 0., 0.],\n",
            "        [0., 0., 0.]])\n"
          ]
        }
      ],
      "source": [
        "shape=(2,3,)\n",
        "rand_tensor=torch.rand(shape)\n",
        "ones_tensor=torch.ones(shape)\n",
        "zeros_tensor=torch.zeros(shape)\n",
        "\n",
        "print(f\"Random Tensor: \\n {rand_tensor} \\n\")\n",
        "print(f\"Ones Tensor: \\n {ones_tensor} \\n\")\n",
        "print(f\"Zeros Tensor: \\n {zeros_tensor}\")"
      ]
    },
    {
      "cell_type": "code",
      "execution_count": 8,
      "metadata": {
        "colab": {
          "base_uri": "https://localhost:8080/"
        },
        "id": "YWngc41lMcp-",
        "outputId": "ca8c0d21-e98a-4c58-8741-42161d6a985c"
      },
      "outputs": [
        {
          "name": "stdout",
          "output_type": "stream",
          "text": [
            "Shape of tensor: torch.Size([3, 4])\n",
            "Datatype of tensor: torch.float32\n",
            "Device tensor is stored on: cpu\n"
          ]
        }
      ],
      "source": [
        "tensor=torch.rand(3,4)\n",
        "print(f\"Shape of tensor: {tensor.shape}\")\n",
        "print(f\"Datatype of tensor: {tensor.dtype}\")\n",
        "print(f\"Device tensor is stored on: {tensor.device}\")\n"
      ]
    },
    {
      "cell_type": "code",
      "execution_count": 9,
      "metadata": {
        "id": "cPZfGR8qNXnN"
      },
      "outputs": [],
      "source": [
        "if torch.cuda.is_available():\n",
        "  tensor = tensor.to(\"cuda\")"
      ]
    },
    {
      "cell_type": "code",
      "execution_count": 10,
      "metadata": {
        "colab": {
          "base_uri": "https://localhost:8080/"
        },
        "id": "OiBU8lZcPiia",
        "outputId": "09fcc29d-0915-441d-db45-0347c34a3699"
      },
      "outputs": [
        {
          "name": "stdout",
          "output_type": "stream",
          "text": [
            "tensor([0.3172, 0.8760, 0.8730, 0.2623])\n",
            "First row: tensor([0.3172, 0.8760, 0.8730, 0.2623])\n",
            "First column: tensor([0.3172, 0.0170, 0.7303, 0.0529])\n",
            "Last column: tensor([0.2623, 0.4640, 0.2344, 0.5636])\n",
            "tensor([[0.3172, 0.0000, 0.8730, 0.2623],\n",
            "        [0.0170, 0.0000, 0.0396, 0.4640],\n",
            "        [0.7303, 0.0000, 0.5359, 0.2344],\n",
            "        [0.0529, 0.0000, 0.2706, 0.5636]])\n"
          ]
        }
      ],
      "source": [
        "tensor = torch.rand(4, 4,dtype=torch.float)\n",
        "print(tensor[0])\n",
        "print(f\"First row: {tensor[0]}\")\n",
        "print(f\"First column: {tensor[:, 0]}\")\n",
        "print(f\"Last column: {tensor[..., -1]}\")\n",
        "tensor[:,1] = 0\n",
        "\n",
        "print(tensor)"
      ]
    },
    {
      "cell_type": "code",
      "execution_count": 11,
      "metadata": {
        "colab": {
          "base_uri": "https://localhost:8080/"
        },
        "id": "OVv5OnlLPmKI",
        "outputId": "2ad9a813-fd76-4434-92e5-d30f0a8ecb1d"
      },
      "outputs": [
        {
          "name": "stdout",
          "output_type": "stream",
          "text": [
            "tensor([[0.3172, 0.0000, 0.8730, 0.2623],\n",
            "        [0.0170, 0.0000, 0.0396, 0.4640],\n",
            "        [0.7303, 0.0000, 0.5359, 0.2344],\n",
            "        [0.0529, 0.0000, 0.2706, 0.5636]]) \n",
            "\n",
            "tensor([[5.3172, 5.0000, 5.8730, 5.2623],\n",
            "        [5.0170, 5.0000, 5.0396, 5.4640],\n",
            "        [5.7303, 5.0000, 5.5359, 5.2344],\n",
            "        [5.0529, 5.0000, 5.2706, 5.5636]])\n"
          ]
        }
      ],
      "source": [
        "print(f\"{tensor} \\n\")\n",
        "tensor.add_(5)\n",
        "print(tensor)"
      ]
    },
    {
      "cell_type": "code",
      "execution_count": 12,
      "metadata": {
        "colab": {
          "base_uri": "https://localhost:8080/"
        },
        "id": "qgkX9ySyR7uC",
        "outputId": "2f09cb4f-56a6-424d-cb4d-fe5fb28244ed"
      },
      "outputs": [
        {
          "name": "stdout",
          "output_type": "stream",
          "text": [
            "tensor([[115.4566, 110.0272, 115.5266, 112.0994],\n",
            "        [110.0272, 105.4230, 110.2484, 107.3120],\n",
            "        [115.5266, 110.2484, 115.8817, 112.2549],\n",
            "        [112.0994, 107.3120, 112.2549, 109.2656]])\n",
            "tensor([[115.4566, 110.0272, 115.5266, 112.0994],\n",
            "        [110.0272, 105.4230, 110.2484, 107.3120],\n",
            "        [115.5266, 110.2484, 115.8817, 112.2549],\n",
            "        [112.0994, 107.3120, 112.2549, 109.2656]])\n",
            "tensor([[0.1091, 0.8804, 0.3528, 0.7805],\n",
            "        [0.1320, 0.3854, 0.8405, 0.5871],\n",
            "        [0.7850, 0.7130, 0.5175, 0.9861],\n",
            "        [0.6337, 0.3328, 0.4376, 0.6006]])\n"
          ]
        },
        {
          "data": {
            "text/plain": [
              "tensor([[115.4566, 110.0272, 115.5266, 112.0994],\n",
              "        [110.0272, 105.4230, 110.2484, 107.3120],\n",
              "        [115.5266, 110.2484, 115.8817, 112.2549],\n",
              "        [112.0994, 107.3120, 112.2549, 109.2656]])"
            ]
          },
          "execution_count": 12,
          "metadata": {},
          "output_type": "execute_result"
        }
      ],
      "source": [
        "# This computes the matrix multiplication between two tensors.\n",
        "# y1, y2, y3 will have the same value\n",
        "# ‘‘tensor.T‘‘ returns the transpose of a tensor\n",
        "y1 = tensor @ tensor.T\n",
        "print(y1)\n",
        "y2 = tensor.matmul(tensor.T)\n",
        "print(y2)\n",
        "y3 = torch.rand_like(y1)\n",
        "print(y3)\n",
        "torch.matmul(tensor, tensor.T, out=y3)"
      ]
    },
    {
      "cell_type": "code",
      "execution_count": 13,
      "metadata": {
        "colab": {
          "base_uri": "https://localhost:8080/"
        },
        "id": "Hs_Pn54eUyEt",
        "outputId": "f8338255-cd60-4a79-b936-f1b061bd5da3"
      },
      "outputs": [
        {
          "data": {
            "text/plain": [
              "tensor([[28.2725, 25.0000, 34.4917, 27.6923],\n",
              "        [25.1704, 25.0000, 25.3973, 29.8553],\n",
              "        [32.8358, 25.0000, 30.6467, 27.3991],\n",
              "        [25.5322, 25.0000, 27.7793, 30.9541]])"
            ]
          },
          "execution_count": 13,
          "metadata": {},
          "output_type": "execute_result"
        }
      ],
      "source": [
        "# This computes the element-wise product. z1, z2, z3 will have the same value\n",
        "z1 = tensor * tensor\n",
        "z2 = tensor.mul(tensor)\n",
        "z3 = torch.rand_like(tensor)\n",
        "torch.mul(tensor, tensor, out=z3)"
      ]
    },
    {
      "cell_type": "markdown",
      "metadata": {
        "id": "3rmzgJB5WxgC"
      },
      "source": [
        "### OCR "
      ]
    },
    {
      "cell_type": "code",
      "execution_count": 43,
      "metadata": {
        "id": "-2fNdMk0WWBx"
      },
      "outputs": [],
      "source": [
        "import torch\n",
        "import torchvision\n",
        "import numpy as np\n",
        "import torch.nn as nn\n",
        "import matplotlib.pyplot as plt\n",
        "from torch.utils.data import DataLoader\n",
        "import torchvision.transforms as transforms"
      ]
    },
    {
      "cell_type": "code",
      "execution_count": 44,
      "metadata": {
        "id": "CsRPaFtMXVT1"
      },
      "outputs": [],
      "source": [
        "# train_dataset = torchvision.datasets.MNIST(root='./data',train=True,download=True,transform=transforms.ToTensor())\n",
        "train_dataset=torchvision.datasets.MNIST(root='./data',train=True, download=True,transform=transforms.ToTensor())\n",
        "test_dataset=torchvision.datasets.MNIST(root='./data',train=False,download=True,transform=transforms.ToTensor())"
      ]
    },
    {
      "cell_type": "code",
      "execution_count": 45,
      "metadata": {
        "id": "5Cn-qaSLXgn8"
      },
      "outputs": [],
      "source": [
        "# Define a function to create a grid of images\n",
        "def create_image_grid(images, labels, rows, cols):\n",
        "  fig, axs = plt.subplots(rows, cols, figsize=(5, 3))\n",
        "  for i in range(rows):\n",
        "    for j in range(cols):\n",
        "      axs[i, j].imshow(images[i*cols+j].squeeze(), cmap='gray')\n",
        "      axs[i, j].set_title(f\"Label: {labels[i*cols+j]}\")\n",
        "      axs[i, j].axis('on')\n",
        "  plt.tight_layout()\n",
        "  plt.show()"
      ]
    },
    {
      "cell_type": "code",
      "execution_count": 46,
      "metadata": {
        "colab": {
          "base_uri": "https://localhost:8080/",
          "height": 324
        },
        "id": "mBnNO6DvYSVm",
        "outputId": "df518264-65dd-41d6-8727-253083d0a3fb"
      },
      "outputs": [
        {
          "name": "stdout",
          "output_type": "stream",
          "text": [
            "[17396 40037  6133 55300 35105 48913]\n"
          ]
        },
        {
          "data": {
            "image/png": "[encoded data removed]",
            "text/plain": [
              "<Figure size 360x216 with 6 Axes>"
            ]
          },
          "metadata": {
            "needs_background": "light"
          },
          "output_type": "display_data"
        }
      ],
      "source": [
        "# Select a random subset of images and labels from the dataset\n",
        "indices = np.random.choice(range(len(train_dataset)), size=6, replace=False)\n",
        "print(indices)\n",
        "# images = [train_dataset[i][0] for i in indices]\n",
        "images=[train_dataset[i][0] for i in indices]\n",
        "images=[]\n",
        "for i in indices:\n",
        "  images.append(train_dataset[i][0])\n",
        "labels=[]\n",
        "for i in indices:\n",
        "  labels.append(train_dataset[i][1])\n",
        "labels = [train_dataset[i][1] for i in indices]\n",
        "create_image_grid(images, labels, rows=2, cols=3)"
      ]
    },
    {
      "cell_type": "code",
      "execution_count": 47,
      "metadata": {
        "id": "PSHWemtcYc-3"
      },
      "outputs": [],
      "source": [
        "# hyper parameters\n",
        "input_size = 784 # 28x28\n",
        "hidden_size = 100\n",
        "n_classes = 10\n",
        "n_epochs = 2\n",
        "batch_size = 100\n",
        "learning_rate = 0.01"
      ]
    },
    {
      "cell_type": "code",
      "execution_count": 48,
      "metadata": {
        "id": "ecImAim7Y4Hg"
      },
      "outputs": [],
      "source": [
        "# train_loader = DataLoader(\n",
        "# dataset=train_dataset,\n",
        "# batch_size=batch_size,\n",
        "# shuffle=True\n",
        "# )\n",
        "\n",
        "train_loader=DataLoader(dataset=train_dataset,batch_size=batch_size,shuffle=True)\n",
        "\n",
        "test_loader=DataLoader(dataset=test_dataset, batch_size=batch_size,shuffle=True)\n",
        "# test_loader = DataLoader(\n",
        "# dataset=test_dataset,\n",
        "# batch_size=batch_size,\n",
        "# shuffle=True\n",
        "# )"
      ]
    },
    {
      "cell_type": "code",
      "execution_count": 49,
      "metadata": {
        "id": "zlPvnH7ebIS2"
      },
      "outputs": [],
      "source": [
        "class NeuralNet(nn.Module):\n",
        "  def __init__(self, input_size, hidden_size, n_classes):\n",
        "    super(NeuralNet, self).__init__()\n",
        "    self.linear_1 = nn.Linear(input_size, hidden_size)\n",
        "    self.linear_2 = nn.Linear(hidden_size, n_classes)\n",
        "    self.relu = nn.ReLU()\n",
        "  def forward(self, x):\n",
        "    x = self.relu(self.linear_1(x))\n",
        "    x = self.linear_2(x)\n",
        "    return x"
      ]
    },
    {
      "cell_type": "code",
      "execution_count": 50,
      "metadata": {
        "colab": {
          "base_uri": "https://localhost:8080/"
        },
        "id": "B5HE3odHiGwv",
        "outputId": "1059f2ac-2905-4678-a91a-2280f0bf5e9c"
      },
      "outputs": [
        {
          "name": "stdout",
          "output_type": "stream",
          "text": [
            "Using mps device\n"
          ]
        }
      ],
      "source": [
        "# device = torch.device('cuda' if torch.cuda.is_available() else 'cpu') # for cuda\n",
        "device = torch.device('mps' if torch.backends.mps.is_available() else 'cpu') # for mps\n",
        "print(f'Using {device} device')"
      ]
    },
    {
      "cell_type": "code",
      "execution_count": 51,
      "metadata": {
        "colab": {
          "base_uri": "https://localhost:8080/"
        },
        "id": "03cep01QiNrG",
        "outputId": "256cf2f7-e58f-43dc-daa4-06933c4d4cb7"
      },
      "outputs": [
        {
          "name": "stdout",
          "output_type": "stream",
          "text": [
            "NeuralNet(\n",
            "  (linear_1): Linear(in_features=784, out_features=100, bias=True)\n",
            "  (linear_2): Linear(in_features=100, out_features=10, bias=True)\n",
            "  (relu): ReLU()\n",
            ")\n"
          ]
        }
      ],
      "source": [
        "model=NeuralNet(input_size,hidden_size, n_classes).to(device)\n",
        "print(model)"
      ]
    },
    {
      "cell_type": "code",
      "execution_count": 52,
      "metadata": {
        "id": "dctu0CEdieK6"
      },
      "outputs": [],
      "source": [
        "# Initialize the loss function\n",
        "criterion = nn.CrossEntropyLoss()"
      ]
    },
    {
      "cell_type": "code",
      "execution_count": 53,
      "metadata": {
        "id": "ug4dDILrisTc"
      },
      "outputs": [],
      "source": [
        "# Initialize the optimizer\n",
        "# optimizer = torch.optim.Adam(model.parameters(), lr=learning_rate)\n",
        "# optimizer = torch.optim.SGD(model.parameters(), lr=0.01)\n",
        "optimizer = torch.optim.RMSprop(model.parameters(), lr=0.001)\n",
        "\n"
      ]
    },
    {
      "cell_type": "code",
      "execution_count": 54,
      "metadata": {
        "colab": {
          "base_uri": "https://localhost:8080/"
        },
        "id": "T105hKb-ixCe",
        "outputId": "58aa9987-f788-4740-98de-ccf98f6ae724"
      },
      "outputs": [
        {
          "name": "stdout",
          "output_type": "stream",
          "text": [
            "epoch 1/2,\\step 100/600, loss = 0.3015\n",
            "epoch 1/2,\\step 200/600, loss = 0.3195\n",
            "epoch 1/2,\\step 300/600, loss = 0.2549\n",
            "epoch 1/2,\\step 400/600, loss = 0.1858\n",
            "epoch 1/2,\\step 500/600, loss = 0.2425\n",
            "epoch 1/2,\\step 600/600, loss = 0.4524\n",
            "epoch 2/2,\\step 100/600, loss = 0.2281\n",
            "epoch 2/2,\\step 200/600, loss = 0.1773\n",
            "epoch 2/2,\\step 300/600, loss = 0.1416\n",
            "epoch 2/2,\\step 400/600, loss = 0.2427\n",
            "epoch 2/2,\\step 500/600, loss = 0.1127\n",
            "epoch 2/2,\\step 600/600, loss = 0.1215\n"
          ]
        }
      ],
      "source": [
        "n_steps = len(train_loader)\n",
        "for epoch in range(n_epochs):\n",
        "  for i, (images, labels) in enumerate(train_loader):\n",
        "    images = images.reshape(images.shape[0], -1).to(device)\n",
        "    labels = labels.to(device)\n",
        "    # forward pass and loss\n",
        "    outputs = model(images)\n",
        "    loss = criterion(outputs, labels)\n",
        "    # backward pass and update\n",
        "    optimizer.zero_grad()\n",
        "    loss.backward()\n",
        "    optimizer.step()\n",
        "    if (i+1)%100 == 0:\n",
        "      print(f'epoch {epoch+1}/{n_epochs},\\step {i+1}/{n_steps}, loss = {loss.item():.4f}')"
      ]
    },
    {
      "cell_type": "code",
      "execution_count": 55,
      "metadata": {
        "colab": {
          "base_uri": "https://localhost:8080/"
        },
        "id": "UjmMBOwik3RC",
        "outputId": "82e9a8af-33c7-43e7-9dee-aac63075ee0a"
      },
      "outputs": [
        {
          "name": "stdout",
          "output_type": "stream",
          "text": [
            "accuracy = 95.56\n"
          ]
        }
      ],
      "source": [
        "with torch.no_grad():\n",
        "  n_correct = 0\n",
        "  n_samples = 0\n",
        "  for images, labels in test_loader:\n",
        "    images = images.reshape(images.shape[0], -1).to(device)\n",
        "    labels = labels.to(device)\n",
        "    outputs = model(images)\n",
        "    # value, index(cls_label)\n",
        "    _, predictions = torch.max(outputs, dim=1)\n",
        "    n_samples += labels.shape[0]\n",
        "    n_correct += (predictions == labels).sum().item()\n",
        "  acc = 100.0 * n_correct / n_samples\n",
        "  print(f'accuracy = {acc}')"
      ]
    },
    {
      "cell_type": "code",
      "execution_count": 56,
      "metadata": {
        "colab": {
          "base_uri": "https://localhost:8080/",
          "height": 452
        },
        "id": "A9ZpEgDqlOyo",
        "outputId": "0b1006c9-d287-4065-adde-32fbf2868626"
      },
      "outputs": [
        {
          "data": {
            "image/png": "[encoded data removed]",
            "text/plain": [
              "<Figure size 432x288 with 1 Axes>"
            ]
          },
          "metadata": {
            "needs_background": "light"
          },
          "output_type": "display_data"
        }
      ],
      "source": [
        "# Get a test image from the dataset\n",
        "test_image, test_label = next(iter(test_loader))\n",
        "test_image, test_label = test_image.to(device), test_label.to(device)\n",
        "# Select a single image from the batch\n",
        "image_idx = 0\n",
        "test_image = test_image[image_idx].unsqueeze(0)\n",
        "test_label = test_label[image_idx].unsqueeze(0)\n",
        "# Make a prediction\n",
        "with torch.no_grad():\n",
        "  model.eval()\n",
        "  output = model(test_image.view(-1, 784))\n",
        "  _, predicted = torch.max(output.data, dim=1)\n",
        "# Plot the image with ground truth and predicted labels\n",
        "plt.imshow(test_image.cpu().view(28, 28), cmap='gray')\n",
        "plt.title(f\"Ground Truth Label: {test_label.item()}, \\Predicted Label: {predicted.item()}\")\n",
        "plt.show()"
      ]
    },
    {
      "cell_type": "code",
      "execution_count": 57,
      "metadata": {
        "colab": {
          "base_uri": "https://localhost:8080/"
        },
        "id": "4oUuwwinlch8",
        "outputId": "3ce08d42-4ba0-48aa-f104-52d3893fac8e"
      },
      "outputs": [],
      "source": [
        "import torchvision.models as models\n",
        "\n",
        "model = models.vgg16(pretrained=True)\n",
        "torch.save(model.state_dict(), 'model_weights.pth')"
      ]
    },
    {
      "cell_type": "code",
      "execution_count": 58,
      "metadata": {
        "colab": {
          "base_uri": "https://localhost:8080/"
        },
        "id": "v_bJdBxEmKE3",
        "outputId": "2a9a27ed-3bec-4d2f-9ea1-cd0bf58b3b08"
      },
      "outputs": [
        {
          "data": {
            "text/plain": [
              "<All keys matched successfully>"
            ]
          },
          "execution_count": 58,
          "metadata": {},
          "output_type": "execute_result"
        }
      ],
      "source": [
        "model = models.vgg16() # we do not specify weights, i.e. create untrained model\n",
        "model.load_state_dict(torch.load('model_weights.pth'))"
      ]
    },
    {
      "cell_type": "code",
      "execution_count": 60,
      "metadata": {
        "id": "XQBKI8-XmphB"
      },
      "outputs": [],
      "source": [
        "torch.save(model, 'model.pth')\n",
        "model=torch.load('model.pth')"
      ]
    },
    {
      "cell_type": "code",
      "execution_count": 61,
      "metadata": {
        "colab": {
          "base_uri": "https://localhost:8080/",
          "height": 407
        },
        "id": "IukSYLbWnDOO",
        "outputId": "0ac79478-2362-4af5-e87a-52d6ee2da0fb"
      },
      "outputs": [
        {
          "ename": "RuntimeError",
          "evalue": "Expected 3D (unbatched) or 4D (batched) input to conv2d, but got input of size: [1, 784]",
          "output_type": "error",
          "traceback": [
            "\u001b[0;31m---------------------------------------------------------------------------\u001b[0m",
            "\u001b[0;31mRuntimeError\u001b[0m                              Traceback (most recent call last)",
            "\u001b[1;32m/Users/hari/AndroidStudioProjects/Tflite/PyTorch/CO544_Pytorch.ipynb Cell 35\u001b[0m in \u001b[0;36m<cell line: 9>\u001b[0;34m()\u001b[0m\n\u001b[1;32m      <a href='vscode-notebook-cell:/Users/hari/AndroidStudioProjects/Tflite/PyTorch/CO544_Pytorch.ipynb#X46sZmlsZQ%3D%3D?line=8'>9</a>\u001b[0m \u001b[39mwith\u001b[39;00m torch\u001b[39m.\u001b[39mno_grad():\n\u001b[1;32m     <a href='vscode-notebook-cell:/Users/hari/AndroidStudioProjects/Tflite/PyTorch/CO544_Pytorch.ipynb#X46sZmlsZQ%3D%3D?line=9'>10</a>\u001b[0m   model\u001b[39m.\u001b[39meval()\n\u001b[0;32m---> <a href='vscode-notebook-cell:/Users/hari/AndroidStudioProjects/Tflite/PyTorch/CO544_Pytorch.ipynb#X46sZmlsZQ%3D%3D?line=10'>11</a>\u001b[0m   output \u001b[39m=\u001b[39m model(test_image\u001b[39m.\u001b[39;49mview(\u001b[39m-\u001b[39;49m\u001b[39m1\u001b[39;49m, \u001b[39m784\u001b[39;49m))\n\u001b[1;32m     <a href='vscode-notebook-cell:/Users/hari/AndroidStudioProjects/Tflite/PyTorch/CO544_Pytorch.ipynb#X46sZmlsZQ%3D%3D?line=11'>12</a>\u001b[0m   _, predicted \u001b[39m=\u001b[39m torch\u001b[39m.\u001b[39mmax(output\u001b[39m.\u001b[39mdata, dim\u001b[39m=\u001b[39m\u001b[39m1\u001b[39m)\n\u001b[1;32m     <a href='vscode-notebook-cell:/Users/hari/AndroidStudioProjects/Tflite/PyTorch/CO544_Pytorch.ipynb#X46sZmlsZQ%3D%3D?line=12'>13</a>\u001b[0m \u001b[39m# Plot the image with ground truth and predicted labels\u001b[39;00m\n",
            "File \u001b[0;32m~/anaconda3/envs/pytorch_env/lib/python3.10/site-packages/torch/nn/modules/module.py:1501\u001b[0m, in \u001b[0;36mModule._call_impl\u001b[0;34m(self, *args, **kwargs)\u001b[0m\n\u001b[1;32m   1496\u001b[0m \u001b[39m# If we don't have any hooks, we want to skip the rest of the logic in\u001b[39;00m\n\u001b[1;32m   1497\u001b[0m \u001b[39m# this function, and just call forward.\u001b[39;00m\n\u001b[1;32m   1498\u001b[0m \u001b[39mif\u001b[39;00m \u001b[39mnot\u001b[39;00m (\u001b[39mself\u001b[39m\u001b[39m.\u001b[39m_backward_hooks \u001b[39mor\u001b[39;00m \u001b[39mself\u001b[39m\u001b[39m.\u001b[39m_backward_pre_hooks \u001b[39mor\u001b[39;00m \u001b[39mself\u001b[39m\u001b[39m.\u001b[39m_forward_hooks \u001b[39mor\u001b[39;00m \u001b[39mself\u001b[39m\u001b[39m.\u001b[39m_forward_pre_hooks\n\u001b[1;32m   1499\u001b[0m         \u001b[39mor\u001b[39;00m _global_backward_pre_hooks \u001b[39mor\u001b[39;00m _global_backward_hooks\n\u001b[1;32m   1500\u001b[0m         \u001b[39mor\u001b[39;00m _global_forward_hooks \u001b[39mor\u001b[39;00m _global_forward_pre_hooks):\n\u001b[0;32m-> 1501\u001b[0m     \u001b[39mreturn\u001b[39;00m forward_call(\u001b[39m*\u001b[39;49margs, \u001b[39m*\u001b[39;49m\u001b[39m*\u001b[39;49mkwargs)\n\u001b[1;32m   1502\u001b[0m \u001b[39m# Do not call functions when jit is used\u001b[39;00m\n\u001b[1;32m   1503\u001b[0m full_backward_hooks, non_full_backward_hooks \u001b[39m=\u001b[39m [], []\n",
            "File \u001b[0;32m~/anaconda3/envs/pytorch_env/lib/python3.10/site-packages/torchvision/models/vgg.py:66\u001b[0m, in \u001b[0;36mVGG.forward\u001b[0;34m(self, x)\u001b[0m\n\u001b[1;32m     65\u001b[0m \u001b[39mdef\u001b[39;00m \u001b[39mforward\u001b[39m(\u001b[39mself\u001b[39m, x: torch\u001b[39m.\u001b[39mTensor) \u001b[39m-\u001b[39m\u001b[39m>\u001b[39m torch\u001b[39m.\u001b[39mTensor:\n\u001b[0;32m---> 66\u001b[0m     x \u001b[39m=\u001b[39m \u001b[39mself\u001b[39;49m\u001b[39m.\u001b[39;49mfeatures(x)\n\u001b[1;32m     67\u001b[0m     x \u001b[39m=\u001b[39m \u001b[39mself\u001b[39m\u001b[39m.\u001b[39mavgpool(x)\n\u001b[1;32m     68\u001b[0m     x \u001b[39m=\u001b[39m torch\u001b[39m.\u001b[39mflatten(x, \u001b[39m1\u001b[39m)\n",
            "File \u001b[0;32m~/anaconda3/envs/pytorch_env/lib/python3.10/site-packages/torch/nn/modules/module.py:1501\u001b[0m, in \u001b[0;36mModule._call_impl\u001b[0;34m(self, *args, **kwargs)\u001b[0m\n\u001b[1;32m   1496\u001b[0m \u001b[39m# If we don't have any hooks, we want to skip the rest of the logic in\u001b[39;00m\n\u001b[1;32m   1497\u001b[0m \u001b[39m# this function, and just call forward.\u001b[39;00m\n\u001b[1;32m   1498\u001b[0m \u001b[39mif\u001b[39;00m \u001b[39mnot\u001b[39;00m (\u001b[39mself\u001b[39m\u001b[39m.\u001b[39m_backward_hooks \u001b[39mor\u001b[39;00m \u001b[39mself\u001b[39m\u001b[39m.\u001b[39m_backward_pre_hooks \u001b[39mor\u001b[39;00m \u001b[39mself\u001b[39m\u001b[39m.\u001b[39m_forward_hooks \u001b[39mor\u001b[39;00m \u001b[39mself\u001b[39m\u001b[39m.\u001b[39m_forward_pre_hooks\n\u001b[1;32m   1499\u001b[0m         \u001b[39mor\u001b[39;00m _global_backward_pre_hooks \u001b[39mor\u001b[39;00m _global_backward_hooks\n\u001b[1;32m   1500\u001b[0m         \u001b[39mor\u001b[39;00m _global_forward_hooks \u001b[39mor\u001b[39;00m _global_forward_pre_hooks):\n\u001b[0;32m-> 1501\u001b[0m     \u001b[39mreturn\u001b[39;00m forward_call(\u001b[39m*\u001b[39;49margs, \u001b[39m*\u001b[39;49m\u001b[39m*\u001b[39;49mkwargs)\n\u001b[1;32m   1502\u001b[0m \u001b[39m# Do not call functions when jit is used\u001b[39;00m\n\u001b[1;32m   1503\u001b[0m full_backward_hooks, non_full_backward_hooks \u001b[39m=\u001b[39m [], []\n",
            "File \u001b[0;32m~/anaconda3/envs/pytorch_env/lib/python3.10/site-packages/torch/nn/modules/container.py:217\u001b[0m, in \u001b[0;36mSequential.forward\u001b[0;34m(self, input)\u001b[0m\n\u001b[1;32m    215\u001b[0m \u001b[39mdef\u001b[39;00m \u001b[39mforward\u001b[39m(\u001b[39mself\u001b[39m, \u001b[39minput\u001b[39m):\n\u001b[1;32m    216\u001b[0m     \u001b[39mfor\u001b[39;00m module \u001b[39min\u001b[39;00m \u001b[39mself\u001b[39m:\n\u001b[0;32m--> 217\u001b[0m         \u001b[39minput\u001b[39m \u001b[39m=\u001b[39m module(\u001b[39minput\u001b[39;49m)\n\u001b[1;32m    218\u001b[0m     \u001b[39mreturn\u001b[39;00m \u001b[39minput\u001b[39m\n",
            "File \u001b[0;32m~/anaconda3/envs/pytorch_env/lib/python3.10/site-packages/torch/nn/modules/module.py:1501\u001b[0m, in \u001b[0;36mModule._call_impl\u001b[0;34m(self, *args, **kwargs)\u001b[0m\n\u001b[1;32m   1496\u001b[0m \u001b[39m# If we don't have any hooks, we want to skip the rest of the logic in\u001b[39;00m\n\u001b[1;32m   1497\u001b[0m \u001b[39m# this function, and just call forward.\u001b[39;00m\n\u001b[1;32m   1498\u001b[0m \u001b[39mif\u001b[39;00m \u001b[39mnot\u001b[39;00m (\u001b[39mself\u001b[39m\u001b[39m.\u001b[39m_backward_hooks \u001b[39mor\u001b[39;00m \u001b[39mself\u001b[39m\u001b[39m.\u001b[39m_backward_pre_hooks \u001b[39mor\u001b[39;00m \u001b[39mself\u001b[39m\u001b[39m.\u001b[39m_forward_hooks \u001b[39mor\u001b[39;00m \u001b[39mself\u001b[39m\u001b[39m.\u001b[39m_forward_pre_hooks\n\u001b[1;32m   1499\u001b[0m         \u001b[39mor\u001b[39;00m _global_backward_pre_hooks \u001b[39mor\u001b[39;00m _global_backward_hooks\n\u001b[1;32m   1500\u001b[0m         \u001b[39mor\u001b[39;00m _global_forward_hooks \u001b[39mor\u001b[39;00m _global_forward_pre_hooks):\n\u001b[0;32m-> 1501\u001b[0m     \u001b[39mreturn\u001b[39;00m forward_call(\u001b[39m*\u001b[39;49margs, \u001b[39m*\u001b[39;49m\u001b[39m*\u001b[39;49mkwargs)\n\u001b[1;32m   1502\u001b[0m \u001b[39m# Do not call functions when jit is used\u001b[39;00m\n\u001b[1;32m   1503\u001b[0m full_backward_hooks, non_full_backward_hooks \u001b[39m=\u001b[39m [], []\n",
            "File \u001b[0;32m~/anaconda3/envs/pytorch_env/lib/python3.10/site-packages/torch/nn/modules/conv.py:463\u001b[0m, in \u001b[0;36mConv2d.forward\u001b[0;34m(self, input)\u001b[0m\n\u001b[1;32m    462\u001b[0m \u001b[39mdef\u001b[39;00m \u001b[39mforward\u001b[39m(\u001b[39mself\u001b[39m, \u001b[39minput\u001b[39m: Tensor) \u001b[39m-\u001b[39m\u001b[39m>\u001b[39m Tensor:\n\u001b[0;32m--> 463\u001b[0m     \u001b[39mreturn\u001b[39;00m \u001b[39mself\u001b[39;49m\u001b[39m.\u001b[39;49m_conv_forward(\u001b[39minput\u001b[39;49m, \u001b[39mself\u001b[39;49m\u001b[39m.\u001b[39;49mweight, \u001b[39mself\u001b[39;49m\u001b[39m.\u001b[39;49mbias)\n",
            "File \u001b[0;32m~/anaconda3/envs/pytorch_env/lib/python3.10/site-packages/torch/nn/modules/conv.py:459\u001b[0m, in \u001b[0;36mConv2d._conv_forward\u001b[0;34m(self, input, weight, bias)\u001b[0m\n\u001b[1;32m    455\u001b[0m \u001b[39mif\u001b[39;00m \u001b[39mself\u001b[39m\u001b[39m.\u001b[39mpadding_mode \u001b[39m!=\u001b[39m \u001b[39m'\u001b[39m\u001b[39mzeros\u001b[39m\u001b[39m'\u001b[39m:\n\u001b[1;32m    456\u001b[0m     \u001b[39mreturn\u001b[39;00m F\u001b[39m.\u001b[39mconv2d(F\u001b[39m.\u001b[39mpad(\u001b[39minput\u001b[39m, \u001b[39mself\u001b[39m\u001b[39m.\u001b[39m_reversed_padding_repeated_twice, mode\u001b[39m=\u001b[39m\u001b[39mself\u001b[39m\u001b[39m.\u001b[39mpadding_mode),\n\u001b[1;32m    457\u001b[0m                     weight, bias, \u001b[39mself\u001b[39m\u001b[39m.\u001b[39mstride,\n\u001b[1;32m    458\u001b[0m                     _pair(\u001b[39m0\u001b[39m), \u001b[39mself\u001b[39m\u001b[39m.\u001b[39mdilation, \u001b[39mself\u001b[39m\u001b[39m.\u001b[39mgroups)\n\u001b[0;32m--> 459\u001b[0m \u001b[39mreturn\u001b[39;00m F\u001b[39m.\u001b[39;49mconv2d(\u001b[39minput\u001b[39;49m, weight, bias, \u001b[39mself\u001b[39;49m\u001b[39m.\u001b[39;49mstride,\n\u001b[1;32m    460\u001b[0m                 \u001b[39mself\u001b[39;49m\u001b[39m.\u001b[39;49mpadding, \u001b[39mself\u001b[39;49m\u001b[39m.\u001b[39;49mdilation, \u001b[39mself\u001b[39;49m\u001b[39m.\u001b[39;49mgroups)\n",
            "\u001b[0;31mRuntimeError\u001b[0m: Expected 3D (unbatched) or 4D (batched) input to conv2d, but got input of size: [1, 784]"
          ]
        }
      ],
      "source": [
        "# Get a test image from the dataset\n",
        "test_image, test_label = next(iter(test_loader))\n",
        "test_image, test_label = test_image.to(device), test_label.to(device)\n",
        "# Select a single image from the batch\n",
        "image_idx = 0\n",
        "test_image = test_image[image_idx].unsqueeze(0)\n",
        "test_label = test_label[image_idx].unsqueeze(0)\n",
        "# Make a prediction\n",
        "with torch.no_grad():\n",
        "  model.eval()\n",
        "  output = model(test_image.view(-1, 784))\n",
        "  _, predicted = torch.max(output.data, dim=1)\n",
        "# Plot the image with ground truth and predicted labels\n",
        "plt.imshow(test_image.cpu().view(28, 28), cmap='gray')\n",
        "plt.title(f\"Ground Truth Label: {test_label.item()}, \\Predicted Label: {predicted.item()}\")\n",
        "plt.show()"
      ]
    },
    {
      "cell_type": "code",
      "execution_count": null,
      "metadata": {
        "id": "tIW0EW96nFxf"
      },
      "outputs": [],
      "source": []
    }
  ],
  "metadata": {
    "accelerator": "GPU",
    "colab": {
      "authorship_tag": "ABX9TyNN2SB+wTCzwYSh3TDm/2I2",
      "include_colab_link": true,
      "provenance": []
    },
    "gpuClass": "standard",
    "kernelspec": {
      "display_name": "Python 3",
      "name": "python3"
    },
    "language_info": {
      "codemirror_mode": {
        "name": "ipython",
        "version": 3
      },
      "file_extension": ".py",
      "mimetype": "text/x-python",
      "name": "python",
      "nbconvert_exporter": "python",
      "pygments_lexer": "ipython3",
      "version": "3.10.4"
    }
  },
  "nbformat": 4,
  "nbformat_minor": 0
}
