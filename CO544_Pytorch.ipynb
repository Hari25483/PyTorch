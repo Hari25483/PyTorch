{
  "nbformat": 4,
  "nbformat_minor": 0,
  "metadata": {
    "colab": {
      "provenance": [],
      "authorship_tag": "ABX9TyMU8HiOemzBbUurKvZBOxPa",
      "include_colab_link": true
    },
    "kernelspec": {
      "name": "python3",
      "display_name": "Python 3"
    },
    "language_info": {
      "name": "python"
    },
    "accelerator": "GPU",
    "gpuClass": "standard"
  },
  "cells": [
    {
      "cell_type": "markdown",
      "metadata": {
        "id": "view-in-github",
        "colab_type": "text"
      },
      "source": [
        "<a href=\"https://colab.research.google.com/github/Hari25483/PyTorch/blob/main/CO544_Pytorch.ipynb\" target=\"_parent\"><img src=\"https://colab.research.google.com/assets/colab-badge.svg\" alt=\"Open In Colab\"/></a>"
      ]
    },
    {
      "cell_type": "code",
      "execution_count": 1,
      "metadata": {
        "colab": {
          "base_uri": "https://localhost:8080/"
        },
        "id": "91Vqs56tI9OT",
        "outputId": "f6e785bf-f50f-4a59-902a-4b4fa978befb"
      },
      "outputs": [
        {
          "output_type": "stream",
          "name": "stdout",
          "text": [
            "/bin/bash: conda: command not found\n"
          ]
        }
      ],
      "source": [
        "!conda create -n pytorch_env python=3.7 -y"
      ]
    },
    {
      "cell_type": "code",
      "source": [
        "!pip install pytorch torchvision torchaudio cudatoolkit pytorch "
      ],
      "metadata": {
        "colab": {
          "base_uri": "https://localhost:8080/"
        },
        "id": "U3p6KkYhJHPj",
        "outputId": "13c5b5ef-c162-4884-b7da-dfbf1f11ca34"
      },
      "execution_count": 4,
      "outputs": [
        {
          "output_type": "stream",
          "name": "stdout",
          "text": [
            "Looking in indexes: https://pypi.org/simple, https://us-python.pkg.dev/colab-wheels/public/simple/\n",
            "Collecting pytorch\n",
            "  Downloading pytorch-1.0.2.tar.gz (689 bytes)\n",
            "  Preparing metadata (setup.py) ... \u001b[?25l\u001b[?25hdone\n",
            "Requirement already satisfied: torchvision in /usr/local/lib/python3.9/dist-packages (0.15.1+cu118)\n",
            "Requirement already satisfied: torchaudio in /usr/local/lib/python3.9/dist-packages (2.0.1+cu118)\n",
            "\u001b[31mERROR: Could not find a version that satisfies the requirement cudatoolkit (from versions: none)\u001b[0m\u001b[31m\n",
            "\u001b[0m\u001b[31mERROR: No matching distribution found for cudatoolkit\u001b[0m\u001b[31m\n",
            "\u001b[0m"
          ]
        }
      ]
    },
    {
      "cell_type": "code",
      "source": [
        "import torch\n",
        "import numpy as np"
      ],
      "metadata": {
        "id": "HL70RMaYJO6Z"
      },
      "execution_count": 1,
      "outputs": []
    },
    {
      "cell_type": "code",
      "source": [
        "data=[[1,2],[3,4]]\n",
        "x_data=torch.tensor(data)"
      ],
      "metadata": {
        "id": "92xeJ0g8KQSn"
      },
      "execution_count": 2,
      "outputs": []
    },
    {
      "cell_type": "code",
      "source": [
        "np_array=np.array(data)\n",
        "x_np=torch.from_numpy(np_array)\n",
        "print(x_np)"
      ],
      "metadata": {
        "colab": {
          "base_uri": "https://localhost:8080/"
        },
        "id": "nn1qlaJOKY-0",
        "outputId": "7b946985-e025-4217-fb34-2edf19344c32"
      },
      "execution_count": 3,
      "outputs": [
        {
          "output_type": "stream",
          "name": "stdout",
          "text": [
            "tensor([[1, 2],\n",
            "        [3, 4]])\n"
          ]
        }
      ]
    },
    {
      "cell_type": "code",
      "source": [
        "# x_ones = torch.z_like(x_data) # retains the properties of x_data\n",
        "# print(f\"Ones Tensor: \\n {x_ones} \\n\")\n",
        "x_ones=torch.ones_like(x_data)\n",
        "print(x_ones)"
      ],
      "metadata": {
        "colab": {
          "base_uri": "https://localhost:8080/"
        },
        "id": "w6VwPsQhLGMT",
        "outputId": "28c52aff-12d9-48b7-de6d-8d290e0220b8"
      },
      "execution_count": 4,
      "outputs": [
        {
          "output_type": "stream",
          "name": "stdout",
          "text": [
            "tensor([[1, 1],\n",
            "        [1, 1]])\n"
          ]
        }
      ]
    },
    {
      "cell_type": "code",
      "source": [
        "x_zeros=torch.zeros_like(x_data)\n",
        "print(x_zeros)"
      ],
      "metadata": {
        "colab": {
          "base_uri": "https://localhost:8080/"
        },
        "id": "IOjW56lFLd4s",
        "outputId": "9b3148d6-bad1-4556-933b-20a5bbf87fd5"
      },
      "execution_count": 5,
      "outputs": [
        {
          "output_type": "stream",
          "name": "stdout",
          "text": [
            "tensor([[0, 0],\n",
            "        [0, 0]])\n"
          ]
        }
      ]
    },
    {
      "cell_type": "code",
      "source": [
        "x_rand=torch.rand_like(x_data, dtype=torch.float)\n",
        "print(x_rand)"
      ],
      "metadata": {
        "colab": {
          "base_uri": "https://localhost:8080/"
        },
        "id": "IUx6yQ7WLr8D",
        "outputId": "240a55d9-abd8-4744-b665-5b5e846af11b"
      },
      "execution_count": 6,
      "outputs": [
        {
          "output_type": "stream",
          "name": "stdout",
          "text": [
            "tensor([[0.5637, 0.5928],\n",
            "        [0.8435, 0.9685]])\n"
          ]
        }
      ]
    },
    {
      "cell_type": "code",
      "source": [
        "shape=(2,3,)\n",
        "rand_tensor=torch.rand(shape)\n",
        "ones_tensor=torch.ones(shape)\n",
        "zeros_tensor=torch.zeros(shape)\n",
        "\n",
        "print(f\"Random Tensor: \\n {rand_tensor} \\n\")\n",
        "print(f\"Ones Tensor: \\n {ones_tensor} \\n\")\n",
        "print(f\"Zeros Tensor: \\n {zeros_tensor}\")"
      ],
      "metadata": {
        "colab": {
          "base_uri": "https://localhost:8080/"
        },
        "id": "KTtpikUlL8y2",
        "outputId": "bb648248-20f9-4a85-f8c6-b9e5bac92346"
      },
      "execution_count": 7,
      "outputs": [
        {
          "output_type": "stream",
          "name": "stdout",
          "text": [
            "Random Tensor: \n",
            " tensor([[0.9290, 0.1592, 0.5016],\n",
            "        [0.8385, 0.0900, 0.8860]]) \n",
            "\n",
            "Ones Tensor: \n",
            " tensor([[1., 1., 1.],\n",
            "        [1., 1., 1.]]) \n",
            "\n",
            "Zeros Tensor: \n",
            " tensor([[0., 0., 0.],\n",
            "        [0., 0., 0.]])\n"
          ]
        }
      ]
    },
    {
      "cell_type": "code",
      "source": [
        "tensor=torch.rand(3,4)\n",
        "print(f\"Shape of tensor: {tensor.shape}\")\n",
        "print(f\"Datatype of tensor: {tensor.dtype}\")\n",
        "print(f\"Device tensor is stored on: {tensor.device}\")\n"
      ],
      "metadata": {
        "colab": {
          "base_uri": "https://localhost:8080/"
        },
        "id": "YWngc41lMcp-",
        "outputId": "ca8c0d21-e98a-4c58-8741-42161d6a985c"
      },
      "execution_count": 8,
      "outputs": [
        {
          "output_type": "stream",
          "name": "stdout",
          "text": [
            "Shape of tensor: torch.Size([3, 4])\n",
            "Datatype of tensor: torch.float32\n",
            "Device tensor is stored on: cpu\n"
          ]
        }
      ]
    },
    {
      "cell_type": "code",
      "source": [
        "if torch.cuda.is_available():\n",
        "  tensor = tensor.to(\"cuda\")"
      ],
      "metadata": {
        "id": "cPZfGR8qNXnN"
      },
      "execution_count": 10,
      "outputs": []
    },
    {
      "cell_type": "code",
      "source": [
        "tensor = torch.rand(4, 4,dtype=torch.float)\n",
        "print(tensor[0])\n",
        "print(f\"First row: {tensor[0]}\")\n",
        "print(f\"First column: {tensor[:, 0]}\")\n",
        "print(f\"Last column: {tensor[..., -1]}\")\n",
        "tensor[:,1] = 0\n",
        "\n",
        "print(tensor)"
      ],
      "metadata": {
        "colab": {
          "base_uri": "https://localhost:8080/"
        },
        "id": "OiBU8lZcPiia",
        "outputId": "09fcc29d-0915-441d-db45-0347c34a3699"
      },
      "execution_count": 25,
      "outputs": [
        {
          "output_type": "stream",
          "name": "stdout",
          "text": [
            "tensor([0.9586, 0.9874, 0.1729, 0.3786])\n",
            "First row: tensor([0.9586, 0.9874, 0.1729, 0.3786])\n",
            "First column: tensor([0.9586, 0.9946, 0.2319, 0.0206])\n",
            "Last column: tensor([0.3786, 0.2163, 0.6204, 0.5266])\n",
            "tensor([[0.9586, 0.0000, 0.1729, 0.3786],\n",
            "        [0.9946, 0.0000, 0.1479, 0.2163],\n",
            "        [0.2319, 0.0000, 0.4790, 0.6204],\n",
            "        [0.0206, 0.0000, 0.3314, 0.5266]])\n"
          ]
        }
      ]
    },
    {
      "cell_type": "code",
      "source": [
        "print(f\"{tensor} \\n\")\n",
        "tensor.add_(5)\n",
        "print(tensor)"
      ],
      "metadata": {
        "colab": {
          "base_uri": "https://localhost:8080/"
        },
        "id": "OVv5OnlLPmKI",
        "outputId": "2ad9a813-fd76-4434-92e5-d30f0a8ecb1d"
      },
      "execution_count": 26,
      "outputs": [
        {
          "output_type": "stream",
          "name": "stdout",
          "text": [
            "tensor([[0.9586, 0.0000, 0.1729, 0.3786],\n",
            "        [0.9946, 0.0000, 0.1479, 0.2163],\n",
            "        [0.2319, 0.0000, 0.4790, 0.6204],\n",
            "        [0.0206, 0.0000, 0.3314, 0.5266]]) \n",
            "\n",
            "tensor([[5.9586, 5.0000, 5.1729, 5.3786],\n",
            "        [5.9946, 5.0000, 5.1479, 5.2163],\n",
            "        [5.2319, 5.0000, 5.4790, 5.6204],\n",
            "        [5.0206, 5.0000, 5.3314, 5.5266]])\n"
          ]
        }
      ]
    },
    {
      "cell_type": "code",
      "source": [
        "# This computes the matrix multiplication between two tensors.\n",
        "# y1, y2, y3 will have the same value\n",
        "# ‘‘tensor.T‘‘ returns the transpose of a tensor\n",
        "y1 = tensor @ tensor.T\n",
        "print(y1)\n",
        "y2 = tensor.matmul(tensor.T)\n",
        "print(y2)\n",
        "y3 = torch.rand_like(y1)\n",
        "print(y3)\n",
        "torch.matmul(tensor, tensor.T, out=y3)"
      ],
      "metadata": {
        "colab": {
          "base_uri": "https://localhost:8080/"
        },
        "id": "qgkX9ySyR7uC",
        "outputId": "2f09cb4f-56a6-424d-cb4d-fe5fb28244ed"
      },
      "execution_count": 28,
      "outputs": [
        {
          "output_type": "stream",
          "name": "stdout",
          "text": [
            "tensor([[116.1933, 115.4053, 114.7472, 112.2202],\n",
            "        [115.4053, 114.6455, 113.8860, 111.3703],\n",
            "        [114.7472, 113.8860, 113.9812, 111.5399],\n",
            "        [112.2202, 111.3703, 111.5399, 109.1739]])\n",
            "tensor([[116.1933, 115.4053, 114.7472, 112.2202],\n",
            "        [115.4053, 114.6455, 113.8860, 111.3703],\n",
            "        [114.7472, 113.8860, 113.9812, 111.5399],\n",
            "        [112.2202, 111.3703, 111.5399, 109.1739]])\n",
            "tensor([[0.6953, 0.2012, 0.6793, 0.4529],\n",
            "        [0.0504, 0.7091, 0.0106, 0.6072],\n",
            "        [0.9006, 0.5963, 0.8599, 0.5267],\n",
            "        [0.7987, 0.1368, 0.9032, 0.7802]])\n"
          ]
        },
        {
          "output_type": "execute_result",
          "data": {
            "text/plain": [
              "tensor([[116.1933, 115.4053, 114.7472, 112.2202],\n",
              "        [115.4053, 114.6455, 113.8860, 111.3703],\n",
              "        [114.7472, 113.8860, 113.9812, 111.5399],\n",
              "        [112.2202, 111.3703, 111.5399, 109.1739]])"
            ]
          },
          "metadata": {},
          "execution_count": 28
        }
      ]
    },
    {
      "cell_type": "code",
      "source": [
        "# This computes the element-wise product. z1, z2, z3 will have the same value\n",
        "z1 = tensor * tensor\n",
        "z2 = tensor.mul(tensor)\n",
        "z3 = torch.rand_like(tensor)\n",
        "torch.mul(tensor, tensor, out=z3)"
      ],
      "metadata": {
        "colab": {
          "base_uri": "https://localhost:8080/"
        },
        "id": "Hs_Pn54eUyEt",
        "outputId": "f8338255-cd60-4a79-b936-f1b061bd5da3"
      },
      "execution_count": 29,
      "outputs": [
        {
          "output_type": "execute_result",
          "data": {
            "text/plain": [
              "tensor([[35.5049, 25.0000, 26.7592, 28.9293],\n",
              "        [35.9354, 25.0000, 26.5008, 27.2093],\n",
              "        [27.3730, 25.0000, 30.0195, 31.5888],\n",
              "        [25.2064, 25.0000, 28.4241, 30.5434]])"
            ]
          },
          "metadata": {},
          "execution_count": 29
        }
      ]
    },
    {
      "cell_type": "markdown",
      "source": [
        "### OCR "
      ],
      "metadata": {
        "id": "3rmzgJB5WxgC"
      }
    },
    {
      "cell_type": "code",
      "source": [
        "import torch\n",
        "import torchvision\n",
        "import numpy as np\n",
        "import torch.nn as nn\n",
        "import matplotlib.pyplot as plt\n",
        "from torch.utils.data import DataLoader\n",
        "import torchvision.transforms as transforms"
      ],
      "metadata": {
        "id": "-2fNdMk0WWBx"
      },
      "execution_count": 45,
      "outputs": []
    },
    {
      "cell_type": "code",
      "source": [
        "# train_dataset = torchvision.datasets.MNIST(root='./data',train=True,download=True,transform=transforms.ToTensor())\n",
        "train_dataset=torchvision.datasets.MNIST(root='./data',train=True, download=True,transform=transforms.ToTensor())\n",
        "test_dataset=torchvision.datasets.MNIST(root='./data',train=False,download=True,transform=transforms.ToTensor())"
      ],
      "metadata": {
        "id": "CsRPaFtMXVT1"
      },
      "execution_count": 47,
      "outputs": []
    },
    {
      "cell_type": "code",
      "source": [
        "# Define a function to create a grid of images\n",
        "def create_image_grid(images, labels, rows, cols):\n",
        "  fig, axs = plt.subplots(rows, cols, figsize=(5, 3))\n",
        "  for i in range(rows):\n",
        "    for j in range(cols):\n",
        "      axs[i, j].imshow(images[i*cols+j].squeeze(), cmap='gray')\n",
        "      axs[i, j].set_title(f\"Label: {labels[i*cols+j]}\")\n",
        "      axs[i, j].axis('on')\n",
        "  plt.tight_layout()\n",
        "  plt.show()"
      ],
      "metadata": {
        "id": "5Cn-qaSLXgn8"
      },
      "execution_count": 53,
      "outputs": []
    },
    {
      "cell_type": "code",
      "source": [
        "# Select a random subset of images and labels from the dataset\n",
        "indices = np.random.choice(range(len(train_dataset)), size=6, replace=False)\n",
        "print(indices)\n",
        "# images = [train_dataset[i][0] for i in indices]\n",
        "images=[train_dataset[i][0] for i in indices]\n",
        "images=[]\n",
        "for i in indices:\n",
        "  images.append(train_dataset[i][0])\n",
        "labels=[]\n",
        "for i in indices:\n",
        "  labels.append(train_dataset[i][1])\n",
        "labels = [train_dataset[i][1] for i in indices]\n",
        "create_image_grid(images, labels, rows=2, cols=3)"
      ],
      "metadata": {
        "colab": {
          "base_uri": "https://localhost:8080/",
          "height": 324
        },
        "id": "mBnNO6DvYSVm",
        "outputId": "df518264-65dd-41d6-8727-253083d0a3fb"
      },
      "execution_count": 60,
      "outputs": [
        {
          "output_type": "stream",
          "name": "stdout",
          "text": [
            "[36622 12674 56285 39304 20614 29343]\n"
          ]
        },
        {
          "output_type": "display_data",
          "data": {
            "text/plain": [
              "<Figure size 500x300 with 6 Axes>"
            ],
            "image/png": "[encoded data removed]"
          },
          "metadata": {}
        }
      ]
    },
    {
      "cell_type": "code",
      "source": [
        "# hyper parameters\n",
        "input_size = 784 # 28x28\n",
        "hidden_size = 100\n",
        "n_classes = 10\n",
        "n_epochs = 2\n",
        "batch_size = 100\n",
        "learning_rate = 0.01"
      ],
      "metadata": {
        "id": "PSHWemtcYc-3"
      },
      "execution_count": 52,
      "outputs": []
    },
    {
      "cell_type": "code",
      "source": [
        "# train_loader = DataLoader(\n",
        "# dataset=train_dataset,\n",
        "# batch_size=batch_size,\n",
        "# shuffle=True\n",
        "# )\n",
        "\n",
        "train_loader=DataLoader(dataset=train_dataset,batch_size=batch_size,shuffle=True)\n",
        "\n",
        "test_loader=DataLoader(dataset=test_dataset, batch_size=batch_size,shuffle=True)\n",
        "# test_loader = DataLoader(\n",
        "# dataset=test_dataset,\n",
        "# batch_size=batch_size,\n",
        "# shuffle=True\n",
        "# )"
      ],
      "metadata": {
        "id": "ecImAim7Y4Hg"
      },
      "execution_count": 62,
      "outputs": []
    },
    {
      "cell_type": "code",
      "source": [],
      "metadata": {
        "id": "zlPvnH7ebIS2"
      },
      "execution_count": null,
      "outputs": []
    }
  ]
}